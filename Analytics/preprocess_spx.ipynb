{
 "cells": [
  {
   "cell_type": "code",
   "execution_count": 1,
   "metadata": {},
   "outputs": [],
   "source": [
    "import pandas as pd\n",
    "import numpy as np\n",
    "from tqdm import tqdm_notebook as tqdm\n",
    "import os\n",
    "\n",
    "#ignore warnings\n",
    "import warnings\n",
    "warnings.filterwarnings('ignore')"
   ]
  },
  {
   "cell_type": "code",
   "execution_count": 2,
   "metadata": {},
   "outputs": [],
   "source": [
    "COLUMN_OF_INTEREST =['QUOTE_UNIXTIME','QUOTE_DATE','EXPIRE_DATE','EXPIRE_UNIX',\n",
    "                            'DTE','C_BID','C_ASK', 'P_BID','P_ASK',\n",
    "                             'UNDERLYING_LAST','STRIKE','STRIKE_DISTANCE']"
   ]
  },
  {
   "cell_type": "code",
   "execution_count": 3,
   "metadata": {},
   "outputs": [],
   "source": [
    "def read_data(path):\n",
    "    df = pd.read_csv(path)\n",
    "\n",
    "    df.columns = df.columns.str.replace(' ', '')\n",
    "    df.columns = df.columns.str.replace('[', '', regex=True)\n",
    "    df.columns = df.columns.str.replace(']', '', regex=True)\n",
    "\n",
    "    df_of_interest = df[COLUMN_OF_INTEREST]\n",
    "    df_of_interest = df_of_interest[(df_of_interest['DTE'] == 30) | (df_of_interest['DTE'] == 0)]\n",
    "\n",
    "    return df_of_interest"
   ]
  },
  {
   "cell_type": "code",
   "execution_count": 4,
   "metadata": {},
   "outputs": [
    {
     "data": {
      "application/vnd.jupyter.widget-view+json": {
       "model_id": "aa01fd54d65c4174812f3882f09dc901",
       "version_major": 2,
       "version_minor": 0
      },
      "text/plain": [
       "  0%|          | 0/36 [00:00<?, ?it/s]"
      ]
     },
     "metadata": {},
     "output_type": "display_data"
    }
   ],
   "source": [
    "# create empty dataframe with column names\n",
    "df_of_interest = pd.DataFrame(columns=COLUMN_OF_INTEREST)\n",
    "\n",
    "#loop through all files in directory\n",
    "for filename in tqdm(os.listdir('data/2020 to 2022 spx txt files')):\n",
    "    if not filename.endswith(\".txt\"):\n",
    "        continue\n",
    "    path = os.path.join('./data/2020 to 2022 spx txt files', filename)\n",
    "    df_of_interest = pd.concat([df_of_interest, read_data(path)])\n",
    "    \n"
   ]
  },
  {
   "cell_type": "code",
   "execution_count": null,
   "metadata": {},
   "outputs": [],
   "source": [
    "# write to csv\n",
    "df_of_interest.to_csv('data/2020-2022_SPX_30days.csv', index=False)"
   ]
  }
 ],
 "metadata": {
  "kernelspec": {
   "display_name": "Python 3",
   "language": "python",
   "name": "python3"
  },
  "language_info": {
   "codemirror_mode": {
    "name": "ipython",
    "version": 3
   },
   "file_extension": ".py",
   "mimetype": "text/x-python",
   "name": "python",
   "nbconvert_exporter": "python",
   "pygments_lexer": "ipython3",
   "version": "3.9.16"
  },
  "orig_nbformat": 4
 },
 "nbformat": 4,
 "nbformat_minor": 2
}
